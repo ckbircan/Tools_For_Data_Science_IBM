{
 "cells": [
  {
   "cell_type": "markdown",
   "id": "427ed516-3102-4c3e-9573-977ba9c32986",
   "metadata": {},
   "source": [
    "# Data Science Tools and Ecosystem"
   ]
  },
  {
   "cell_type": "markdown",
   "id": "b85dec6d-d9cd-4075-8f49-c0cd6f2ffc94",
   "metadata": {},
   "source": [
    "#### In this notebook, Data Science Tools and Ecosystem are summarized."
   ]
  },
  {
   "cell_type": "markdown",
   "id": "3f58a31d-533d-4d3b-b45b-c9ed89fc2ebd",
   "metadata": {},
   "source": [
    "##### Some of the popular languages that Data Scientists use are:\n",
    "\n",
    "1. Python  \n",
    "2. R  \n",
    "3. SQL  \n",
    "4. Julia  \n",
    "5. Scala"
   ]
  },
  {
   "cell_type": "markdown",
   "id": "8cb3092c-efe7-4e1e-811a-61e8e16ec6fe",
   "metadata": {},
   "source": [
    "##### Some of the commonly used libraries used by Data Scientists include:\n",
    "\n",
    "1. NumPy  \n",
    "2. pandas  \n",
    "3. Matplotlib  \n",
    "4. Scikit-learn  \n",
    "5. TensorFlow"
   ]
  },
  {
   "cell_type": "markdown",
   "id": "9bacae60-f02f-402b-b770-a5a4afd6fca6",
   "metadata": {},
   "source": [
    "| Data Science Tools  |\n",
    "|---------------------|\n",
    "| Jupyter Notebook    |\n",
    "| RStudio             |\n",
    "| VS Code             |"
   ]
  },
  {
   "cell_type": "markdown",
   "id": "4b1ed2a7-9044-463b-bf89-bce906b2cabb",
   "metadata": {},
   "source": [
    "**Objectives:**\n",
    "\n",
    "- List popular languages for Data Science  \n",
    "- Identify commonly used Data Science libraries  \n",
    "- Create and format Markdown cells in Jupyter Notebook  \n",
    "- Build tables using Markdown  \n",
    "- Understand basic Data Science tools and environments"
   ]
  },
  {
   "cell_type": "markdown",
   "id": "810fc93b-c30e-4e50-8e09-8ad076e4a119",
   "metadata": {},
   "source": [
    "Below are a few examples of evaluating arithmetic expressions in Python"
   ]
  },
  {
   "cell_type": "markdown",
   "id": "68275afd-b7a6-4ee0-af27-ac92a283b6cf",
   "metadata": {},
   "source": [
    "###### This a simple arithmetic expression to mutiply then add integer"
   ]
  },
  {
   "cell_type": "code",
   "execution_count": 38,
   "id": "82853a2f-e240-4ac2-baad-7ab1606ffc12",
   "metadata": {},
   "outputs": [
    {
     "data": {
      "text/plain": [
       "17"
      ]
     },
     "execution_count": 38,
     "metadata": {},
     "output_type": "execute_result"
    }
   ],
   "source": [
    "(3*4)+5"
   ]
  },
  {
   "cell_type": "markdown",
   "id": "93fff704-f8f2-4bc5-9d65-4023214580f8",
   "metadata": {},
   "source": [
    "This will convert 200 minutes to hours by diving by 60"
   ]
  },
  {
   "cell_type": "code",
   "execution_count": 36,
   "id": "9c23e57a-52d6-48a5-a487-9892697f3e09",
   "metadata": {},
   "outputs": [
    {
     "data": {
      "text/plain": [
       "3"
      ]
     },
     "execution_count": 36,
     "metadata": {},
     "output_type": "execute_result"
    }
   ],
   "source": [
    "200 // 60"
   ]
  },
  {
   "cell_type": "markdown",
   "id": "e0377773-8570-4ddf-8177-6f7f3841394f",
   "metadata": {},
   "source": [
    "## Author\n",
    "\n",
    "Can Kerem Bircan"
   ]
  },
  {
   "cell_type": "code",
   "execution_count": null,
   "id": "6edb5e45-56a3-4eab-8a49-684af48a2347",
   "metadata": {},
   "outputs": [],
   "source": []
  }
 ],
 "metadata": {
  "kernelspec": {
   "display_name": "Python 3 (ipykernel)",
   "language": "python",
   "name": "python3"
  },
  "language_info": {
   "codemirror_mode": {
    "name": "ipython",
    "version": 3
   },
   "file_extension": ".py",
   "mimetype": "text/x-python",
   "name": "python",
   "nbconvert_exporter": "python",
   "pygments_lexer": "ipython3",
   "version": "3.12.7"
  }
 },
 "nbformat": 4,
 "nbformat_minor": 5
}
